{
  "nbformat": 4,
  "nbformat_minor": 0,
  "metadata": {
    "colab": {
      "provenance": [],
      "include_colab_link": true
    },
    "kernelspec": {
      "name": "python3",
      "display_name": "Python 3"
    },
    "language_info": {
      "name": "python"
    }
  },
  "cells": [
    {
      "cell_type": "markdown",
      "metadata": {
        "id": "view-in-github",
        "colab_type": "text"
      },
      "source": [
        "<a href=\"https://colab.research.google.com/github/Julian3298/PRUEBA-2/blob/main/Untitled1.ipynb\" target=\"_parent\"><img src=\"https://colab.research.google.com/assets/colab-badge.svg\" alt=\"Open In Colab\"/></a>"
      ]
    },
    {
      "cell_type": "code",
      "execution_count": null,
      "metadata": {
        "id": "tf99M1i1ZxjT"
      },
      "outputs": [],
      "source": [
        "personas_registradas = []\n",
        "\n",
        "def grabar_persona():\n",
        "    rut = input(\"Ingrese el RUT: \")\n",
        "    nombre = input(\"Ingrese el nombre: \")\n",
        "    edad = int(input(\"Ingrese la edad: \"))\n",
        "    pais_nacimiento = input(\"Ingrese el país de nacimiento: \")\n",
        "    ciudad_nacimiento = input(\"Ingrese la ciudad de nacimiento: \")\n",
        "\n",
        "    persona = [rut, nombre, edad, pais_nacimiento, ciudad_nacimiento]\n",
        "    personas_registradas.append(persona)\n",
        "\n",
        "\n",
        "def buscar_persona():\n",
        "  rut = input(\"Ingrese el RUT de la persona que desea buscar: \")\n",
        "  for persona in personas_registradas:\n",
        "    if persona[0] == rut:\n",
        "      print(\"Informacion:\")\n",
        "      print(\"Rut:\", persona[0])\n",
        "      print(\"Nombre: \", persona[1])\n",
        "      print(\"Edad: \", persona[2])\n",
        "      print(\"Pais de nacimiento: \", persona[3])\n",
        "      print(\"Ciudad de nacimiento: \", persona[4])\n",
        "\n",
        "def menu():\n",
        "  while True:\n",
        "        print(\"----- MENÚ -----\")\n",
        "        print(\"1. Grabar\")\n",
        "        print(\"2. Buscar\")\n",
        "        print(\"3. Imprimir certificados\")\n",
        "        print(\"4. Eliminar\")\n",
        "        print(\"5. Salir\")\n",
        "        opcion = input(\"Seleccione una opción: \")\n",
        "\n",
        "        if opcion == \"1\":\n",
        "            grabar_persona()\n",
        "        elif opcion == \"2\":\n",
        "            buscar_persona()\n",
        "        else:\n",
        "            print(\"Opción inválida. Intente nuevamente.\")\n",
        "\n",
        "menu()"
      ]
    },
    {
      "cell_type": "code",
      "source": [
        "from itertools import cycle\n",
        "def digito_verificador(rut):\n",
        "  reversed_digits = map(int,reversed(str(rut)))\n",
        "  factors = cycle(range(2,8))\n",
        "  s = sum(d * f for d,f in zip(reversed_digits, factors))\n",
        "  return (-s) % 11\n",
        "\n",
        "print(digito_verificador(27933320))"
      ],
      "metadata": {
        "id": "42YYu2ckfy5z",
        "outputId": "9aee3abc-3f7c-4785-d792-631289a13a58",
        "colab": {
          "base_uri": "https://localhost:8080/"
        }
      },
      "execution_count": 3,
      "outputs": [
        {
          "output_type": "stream",
          "name": "stdout",
          "text": [
            "9\n"
          ]
        }
      ]
    }
  ]
}